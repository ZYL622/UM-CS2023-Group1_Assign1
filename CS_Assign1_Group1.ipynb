{
  "nbformat": 4,
  "nbformat_minor": 0,
  "metadata": {
    "colab": {
      "provenance": []
    },
    "kernelspec": {
      "name": "python3",
      "display_name": "Python 3"
    },
    "language_info": {
      "name": "python"
    },
    "widgets": {
      "application/vnd.jupyter.widget-state+json": {
        "d47b985fd53f4f85a492bba0af85cd3e": {
          "model_module": "@jupyter-widgets/controls",
          "model_name": "HBoxModel",
          "model_module_version": "1.5.0",
          "state": {
            "_dom_classes": [],
            "_model_module": "@jupyter-widgets/controls",
            "_model_module_version": "1.5.0",
            "_model_name": "HBoxModel",
            "_view_count": null,
            "_view_module": "@jupyter-widgets/controls",
            "_view_module_version": "1.5.0",
            "_view_name": "HBoxView",
            "box_style": "",
            "children": [
              "IPY_MODEL_3fe18bc731a648c0a5cbf1fe198207b5",
              "IPY_MODEL_0e040b3190374848950d351ee2e1388c",
              "IPY_MODEL_778b2fa79f184003b7422350dfce3562"
            ],
            "layout": "IPY_MODEL_ea6a322c4bf14ec4970076c288210978"
          }
        },
        "3fe18bc731a648c0a5cbf1fe198207b5": {
          "model_module": "@jupyter-widgets/controls",
          "model_name": "HTMLModel",
          "model_module_version": "1.5.0",
          "state": {
            "_dom_classes": [],
            "_model_module": "@jupyter-widgets/controls",
            "_model_module_version": "1.5.0",
            "_model_name": "HTMLModel",
            "_view_count": null,
            "_view_module": "@jupyter-widgets/controls",
            "_view_module_version": "1.5.0",
            "_view_name": "HTMLView",
            "description": "",
            "description_tooltip": null,
            "layout": "IPY_MODEL_fd24ace9658146b99d23e47c3d0f74ee",
            "placeholder": "​",
            "style": "IPY_MODEL_39a0e68bb1b94175aad8f8fa34bd9bd5",
            "value": "Depth=5, working on node 10: 100%"
          }
        },
        "0e040b3190374848950d351ee2e1388c": {
          "model_module": "@jupyter-widgets/controls",
          "model_name": "FloatProgressModel",
          "model_module_version": "1.5.0",
          "state": {
            "_dom_classes": [],
            "_model_module": "@jupyter-widgets/controls",
            "_model_module_version": "1.5.0",
            "_model_name": "FloatProgressModel",
            "_view_count": null,
            "_view_module": "@jupyter-widgets/controls",
            "_view_module_version": "1.5.0",
            "_view_name": "ProgressView",
            "bar_style": "success",
            "description": "",
            "description_tooltip": null,
            "layout": "IPY_MODEL_acc167ca02a5473eb0ff26157f992d48",
            "max": 11,
            "min": 0,
            "orientation": "horizontal",
            "style": "IPY_MODEL_8430786827e448b5a46b7855ded0815a",
            "value": 11
          }
        },
        "778b2fa79f184003b7422350dfce3562": {
          "model_module": "@jupyter-widgets/controls",
          "model_name": "HTMLModel",
          "model_module_version": "1.5.0",
          "state": {
            "_dom_classes": [],
            "_model_module": "@jupyter-widgets/controls",
            "_model_module_version": "1.5.0",
            "_model_name": "HTMLModel",
            "_view_count": null,
            "_view_module": "@jupyter-widgets/controls",
            "_view_module_version": "1.5.0",
            "_view_name": "HTMLView",
            "description": "",
            "description_tooltip": null,
            "layout": "IPY_MODEL_8723037c29e14f21b642c015e9b81e6a",
            "placeholder": "​",
            "style": "IPY_MODEL_0fa90afa77db45f698b986227d3e927f",
            "value": " 11/11 [00:00&lt;00:00, 114.04it/s]"
          }
        },
        "ea6a322c4bf14ec4970076c288210978": {
          "model_module": "@jupyter-widgets/base",
          "model_name": "LayoutModel",
          "model_module_version": "1.2.0",
          "state": {
            "_model_module": "@jupyter-widgets/base",
            "_model_module_version": "1.2.0",
            "_model_name": "LayoutModel",
            "_view_count": null,
            "_view_module": "@jupyter-widgets/base",
            "_view_module_version": "1.2.0",
            "_view_name": "LayoutView",
            "align_content": null,
            "align_items": null,
            "align_self": null,
            "border": null,
            "bottom": null,
            "display": null,
            "flex": null,
            "flex_flow": null,
            "grid_area": null,
            "grid_auto_columns": null,
            "grid_auto_flow": null,
            "grid_auto_rows": null,
            "grid_column": null,
            "grid_gap": null,
            "grid_row": null,
            "grid_template_areas": null,
            "grid_template_columns": null,
            "grid_template_rows": null,
            "height": null,
            "justify_content": null,
            "justify_items": null,
            "left": null,
            "margin": null,
            "max_height": null,
            "max_width": null,
            "min_height": null,
            "min_width": null,
            "object_fit": null,
            "object_position": null,
            "order": null,
            "overflow": null,
            "overflow_x": null,
            "overflow_y": null,
            "padding": null,
            "right": null,
            "top": null,
            "visibility": null,
            "width": null
          }
        },
        "fd24ace9658146b99d23e47c3d0f74ee": {
          "model_module": "@jupyter-widgets/base",
          "model_name": "LayoutModel",
          "model_module_version": "1.2.0",
          "state": {
            "_model_module": "@jupyter-widgets/base",
            "_model_module_version": "1.2.0",
            "_model_name": "LayoutModel",
            "_view_count": null,
            "_view_module": "@jupyter-widgets/base",
            "_view_module_version": "1.2.0",
            "_view_name": "LayoutView",
            "align_content": null,
            "align_items": null,
            "align_self": null,
            "border": null,
            "bottom": null,
            "display": null,
            "flex": null,
            "flex_flow": null,
            "grid_area": null,
            "grid_auto_columns": null,
            "grid_auto_flow": null,
            "grid_auto_rows": null,
            "grid_column": null,
            "grid_gap": null,
            "grid_row": null,
            "grid_template_areas": null,
            "grid_template_columns": null,
            "grid_template_rows": null,
            "height": null,
            "justify_content": null,
            "justify_items": null,
            "left": null,
            "margin": null,
            "max_height": null,
            "max_width": null,
            "min_height": null,
            "min_width": null,
            "object_fit": null,
            "object_position": null,
            "order": null,
            "overflow": null,
            "overflow_x": null,
            "overflow_y": null,
            "padding": null,
            "right": null,
            "top": null,
            "visibility": null,
            "width": null
          }
        },
        "39a0e68bb1b94175aad8f8fa34bd9bd5": {
          "model_module": "@jupyter-widgets/controls",
          "model_name": "DescriptionStyleModel",
          "model_module_version": "1.5.0",
          "state": {
            "_model_module": "@jupyter-widgets/controls",
            "_model_module_version": "1.5.0",
            "_model_name": "DescriptionStyleModel",
            "_view_count": null,
            "_view_module": "@jupyter-widgets/base",
            "_view_module_version": "1.2.0",
            "_view_name": "StyleView",
            "description_width": ""
          }
        },
        "acc167ca02a5473eb0ff26157f992d48": {
          "model_module": "@jupyter-widgets/base",
          "model_name": "LayoutModel",
          "model_module_version": "1.2.0",
          "state": {
            "_model_module": "@jupyter-widgets/base",
            "_model_module_version": "1.2.0",
            "_model_name": "LayoutModel",
            "_view_count": null,
            "_view_module": "@jupyter-widgets/base",
            "_view_module_version": "1.2.0",
            "_view_name": "LayoutView",
            "align_content": null,
            "align_items": null,
            "align_self": null,
            "border": null,
            "bottom": null,
            "display": null,
            "flex": null,
            "flex_flow": null,
            "grid_area": null,
            "grid_auto_columns": null,
            "grid_auto_flow": null,
            "grid_auto_rows": null,
            "grid_column": null,
            "grid_gap": null,
            "grid_row": null,
            "grid_template_areas": null,
            "grid_template_columns": null,
            "grid_template_rows": null,
            "height": null,
            "justify_content": null,
            "justify_items": null,
            "left": null,
            "margin": null,
            "max_height": null,
            "max_width": null,
            "min_height": null,
            "min_width": null,
            "object_fit": null,
            "object_position": null,
            "order": null,
            "overflow": null,
            "overflow_x": null,
            "overflow_y": null,
            "padding": null,
            "right": null,
            "top": null,
            "visibility": null,
            "width": null
          }
        },
        "8430786827e448b5a46b7855ded0815a": {
          "model_module": "@jupyter-widgets/controls",
          "model_name": "ProgressStyleModel",
          "model_module_version": "1.5.0",
          "state": {
            "_model_module": "@jupyter-widgets/controls",
            "_model_module_version": "1.5.0",
            "_model_name": "ProgressStyleModel",
            "_view_count": null,
            "_view_module": "@jupyter-widgets/base",
            "_view_module_version": "1.2.0",
            "_view_name": "StyleView",
            "bar_color": null,
            "description_width": ""
          }
        },
        "8723037c29e14f21b642c015e9b81e6a": {
          "model_module": "@jupyter-widgets/base",
          "model_name": "LayoutModel",
          "model_module_version": "1.2.0",
          "state": {
            "_model_module": "@jupyter-widgets/base",
            "_model_module_version": "1.2.0",
            "_model_name": "LayoutModel",
            "_view_count": null,
            "_view_module": "@jupyter-widgets/base",
            "_view_module_version": "1.2.0",
            "_view_name": "LayoutView",
            "align_content": null,
            "align_items": null,
            "align_self": null,
            "border": null,
            "bottom": null,
            "display": null,
            "flex": null,
            "flex_flow": null,
            "grid_area": null,
            "grid_auto_columns": null,
            "grid_auto_flow": null,
            "grid_auto_rows": null,
            "grid_column": null,
            "grid_gap": null,
            "grid_row": null,
            "grid_template_areas": null,
            "grid_template_columns": null,
            "grid_template_rows": null,
            "height": null,
            "justify_content": null,
            "justify_items": null,
            "left": null,
            "margin": null,
            "max_height": null,
            "max_width": null,
            "min_height": null,
            "min_width": null,
            "object_fit": null,
            "object_position": null,
            "order": null,
            "overflow": null,
            "overflow_x": null,
            "overflow_y": null,
            "padding": null,
            "right": null,
            "top": null,
            "visibility": null,
            "width": null
          }
        },
        "0fa90afa77db45f698b986227d3e927f": {
          "model_module": "@jupyter-widgets/controls",
          "model_name": "DescriptionStyleModel",
          "model_module_version": "1.5.0",
          "state": {
            "_model_module": "@jupyter-widgets/controls",
            "_model_module_version": "1.5.0",
            "_model_name": "DescriptionStyleModel",
            "_view_count": null,
            "_view_module": "@jupyter-widgets/base",
            "_view_module_version": "1.2.0",
            "_view_name": "StyleView",
            "description_width": ""
          }
        }
      }
    }
  },
  "cells": [
    {
      "cell_type": "markdown",
      "source": [
        "# Causal Discovery from Observational Data - Group 1\n"
      ],
      "metadata": {
        "id": "uE57Rmv9Ekpn"
      }
    },
    {
      "cell_type": "markdown",
      "source": [
        "## PC algorithm"
      ],
      "metadata": {
        "id": "fwsoB2C7ODjh"
      }
    },
    {
      "cell_type": "code",
      "source": [
        "!pip install ges\n",
        "!pip install castle\n",
        "!pip install gcastle==1.0.3\n",
        "import ges\n",
        "import castle"
      ],
      "metadata": {
        "id": "UAFs2TTP514v"
      },
      "execution_count": null,
      "outputs": []
    },
    {
      "cell_type": "code",
      "execution_count": 8,
      "metadata": {
        "id": "dk3SZs4M06hr"
      },
      "outputs": [],
      "source": [
        "import os\n",
        "os.environ['CASTLE_BACKEND'] = 'pytorch'\n",
        "\n",
        "from collections import OrderedDict\n",
        "import warnings\n",
        "\n",
        "import numpy as np\n",
        "import networkx as nx\n",
        "import pandas as pd\n",
        "\n",
        "from castle.common import GraphDAG\n",
        "from castle.metrics import MetricsDAG\n",
        "from castle.datasets import IIDSimulation, DAG\n",
        "from castle.algorithms import PC, ICALiNGAM, GOLEM\n",
        "\n",
        "import matplotlib.pyplot as plt"
      ]
    },
    {
      "cell_type": "code",
      "source": [
        "# Mute warnings - for the sake of presentation clarity\n",
        "# Should be removed for real-life applications\n",
        "warnings.simplefilter('ignore')"
      ],
      "metadata": {
        "id": "Okqe8d4o5xAf"
      },
      "execution_count": 9,
      "outputs": []
    },
    {
      "cell_type": "code",
      "source": [
        "# Loads data\n",
        "df = pd.read_csv(\"a1_data.csv\")"
      ],
      "metadata": {
        "id": "O051h-piKFZu"
      },
      "execution_count": 10,
      "outputs": []
    },
    {
      "cell_type": "code",
      "source": [
        "cols = df.columns.tolist()\n",
        "cols = cols[-1:] + cols[:-1]\n",
        "df_new = df[cols]\n",
        "df_new.head()\n",
        "\n",
        "list_name_new = []\n",
        "for index,row in df_new.iteritems():\n",
        "  list_name_new.append(index)\n",
        "list_name_new\n",
        "\n",
        "pc_dataset_new = df_new\n",
        "\n",
        "# Build the model\n",
        "pc_new = castle.algorithms.PC()\n",
        "pc_new.learn(pc_dataset_new)\n",
        "\n",
        "pc_new.causal_matrix"
      ],
      "metadata": {
        "colab": {
          "base_uri": "https://localhost:8080/"
        },
        "id": "x5xCaPZ22eyG",
        "outputId": "b8cbee0b-f376-455e-a445-8b88781a1c67"
      },
      "execution_count": 12,
      "outputs": [
        {
          "output_type": "execute_result",
          "data": {
            "text/plain": [
              "Tensor([[0, 0, 0, 1, 0, 1, 0, 1, 1, 0, 0],\n",
              "        [1, 0, 1, 1, 0, 0, 0, 0, 1, 0, 1],\n",
              "        [0, 0, 0, 1, 0, 0, 0, 0, 0, 0, 1],\n",
              "        [0, 0, 0, 0, 0, 0, 0, 0, 0, 0, 0],\n",
              "        [0, 0, 0, 1, 0, 1, 0, 0, 0, 0, 1],\n",
              "        [0, 0, 0, 1, 0, 0, 0, 0, 0, 0, 0],\n",
              "        [0, 0, 1, 1, 0, 0, 0, 1, 1, 0, 1],\n",
              "        [0, 0, 0, 0, 0, 0, 0, 0, 0, 0, 0],\n",
              "        [0, 0, 0, 0, 0, 1, 0, 0, 0, 0, 1],\n",
              "        [1, 0, 0, 0, 0, 0, 0, 0, 1, 0, 1],\n",
              "        [0, 0, 0, 0, 0, 0, 0, 0, 0, 0, 0]])"
            ]
          },
          "metadata": {},
          "execution_count": 12
        }
      ]
    },
    {
      "cell_type": "code",
      "source": [
        "# Get learned graph\n",
        "learned_graph = nx.DiGraph(pc_new.causal_matrix)\n",
        "\n",
        "# Relabel the nodes\n",
        "MAPPING = {k: v for k, v in zip(range(len(list_name_new)), list_name_new)}\n",
        "learned_graph = nx.relabel_nodes(learned_graph, MAPPING, copy=True)\n",
        "\n",
        "# Plot the graph\n",
        "nx.draw(\n",
        "    learned_graph, \n",
        "    with_labels=True,\n",
        "    node_size=800,\n",
        "    font_size=15,\n",
        "    font_color='white'\n",
        ")"
      ],
      "metadata": {
        "colab": {
          "base_uri": "https://localhost:8080/",
          "height": 319
        },
        "id": "RgVy39cF3cLk",
        "outputId": "b92a7c11-d964-483d-9fba-7e33e54b87f1"
      },
      "execution_count": 13,
      "outputs": [
        {
          "output_type": "display_data",
          "data": {
            "text/plain": [
              "<Figure size 432x288 with 1 Axes>"
            ],
            "image/png": "[encoded data removed]"
          },
          "metadata": {}
        }
      ]
    },
    {
      "cell_type": "code",
      "source": [
        "list_name = []\n",
        "for index,row in df.iteritems():\n",
        "  list_name.append(index)\n",
        "list_name"
      ],
      "metadata": {
        "id": "K9MSmk6hKrEQ",
        "colab": {
          "base_uri": "https://localhost:8080/"
        },
        "outputId": "6f310cc9-669c-4149-d41c-f140cdfdd627"
      },
      "execution_count": 14,
      "outputs": [
        {
          "output_type": "execute_result",
          "data": {
            "text/plain": [
              "['A', 'B', 'C', 'D', 'E', 'F', 'G', 'H', 'I', 'J', 'K']"
            ]
          },
          "metadata": {},
          "execution_count": 14
        }
      ]
    },
    {
      "cell_type": "code",
      "source": [
        "# To matrix\n",
        "pc_dataset = df"
      ],
      "metadata": {
        "id": "l1ytPyYV60Wx"
      },
      "execution_count": 16,
      "outputs": []
    },
    {
      "cell_type": "code",
      "source": [
        "# Sanity check\n",
        "pc_dataset, pc_dataset.shape"
      ],
      "metadata": {
        "id": "3KJrhTww61tp"
      },
      "execution_count": null,
      "outputs": []
    },
    {
      "cell_type": "code",
      "source": [
        "# Build the model\n",
        "pc = castle.algorithms.PC()\n",
        "pc.learn(pc_dataset)"
      ],
      "metadata": {
        "id": "Owc56NyD63Lj"
      },
      "execution_count": 18,
      "outputs": []
    },
    {
      "cell_type": "code",
      "source": [
        "pc.causal_matrix"
      ],
      "metadata": {
        "colab": {
          "base_uri": "https://localhost:8080/"
        },
        "id": "SIaJz0no64zu",
        "outputId": "20dc04b0-6c0d-434d-db8b-e71d0a9fd1a6"
      },
      "execution_count": 19,
      "outputs": [
        {
          "output_type": "execute_result",
          "data": {
            "text/plain": [
              "Tensor([[0, 1, 1, 0, 0, 0, 0, 1, 0, 1, 1],\n",
              "        [0, 0, 1, 0, 0, 0, 0, 0, 0, 1, 0],\n",
              "        [0, 0, 0, 0, 0, 0, 0, 0, 0, 0, 1],\n",
              "        [0, 0, 1, 0, 1, 0, 0, 0, 0, 1, 0],\n",
              "        [0, 0, 1, 0, 0, 0, 0, 0, 0, 0, 0],\n",
              "        [0, 1, 1, 0, 0, 0, 1, 1, 0, 1, 0],\n",
              "        [0, 0, 0, 0, 0, 0, 0, 0, 0, 0, 1],\n",
              "        [0, 0, 0, 0, 1, 0, 0, 0, 0, 1, 1],\n",
              "        [0, 0, 0, 0, 0, 0, 0, 1, 0, 1, 1],\n",
              "        [0, 0, 0, 0, 0, 0, 0, 0, 0, 0, 0],\n",
              "        [0, 0, 0, 0, 1, 0, 0, 0, 0, 0, 0]])"
            ]
          },
          "metadata": {},
          "execution_count": 19
        }
      ]
    },
    {
      "cell_type": "code",
      "source": [
        "np.sum(pc.causal_matrix,axis=1) # row out\n",
        "np.sum(pc.causal_matrix,axis=0) # column in"
      ],
      "metadata": {
        "colab": {
          "base_uri": "https://localhost:8080/"
        },
        "id": "7NUpp5OgaEKp",
        "outputId": "cbce0f1e-3406-4e11-ab1e-cdda9fc218e4"
      },
      "execution_count": 20,
      "outputs": [
        {
          "output_type": "execute_result",
          "data": {
            "text/plain": [
              "Tensor([0, 2, 5, 0, 3, 0, 1, 3, 0, 6, 5])"
            ]
          },
          "metadata": {},
          "execution_count": 20
        }
      ]
    },
    {
      "cell_type": "code",
      "source": [
        "# Get learned graph\n",
        "learned_graph = nx.DiGraph(pc.causal_matrix)\n",
        "\n",
        "# Relabel the nodes\n",
        "MAPPING = {k: v for k, v in zip(range(len(list_name)), list_name)}\n",
        "learned_graph = nx.relabel_nodes(learned_graph, MAPPING, copy=True)\n",
        "\n",
        "# Plot the graph\n",
        "nx.draw(\n",
        "    learned_graph, \n",
        "    with_labels=True,\n",
        "    node_size=800,\n",
        "    font_size=15,\n",
        "    font_color='white'\n",
        ")"
      ],
      "metadata": {
        "colab": {
          "base_uri": "https://localhost:8080/",
          "height": 319
        },
        "id": "u5uulEId7h7b",
        "outputId": "9d31e106-671c-4caa-aaff-1bc70890ce99"
      },
      "execution_count": 21,
      "outputs": [
        {
          "output_type": "display_data",
          "data": {
            "text/plain": [
              "<Figure size 432x288 with 1 Axes>"
            ],
            "image/png": "[encoded data removed]"
          },
          "metadata": {}
        }
      ]
    },
    {
      "cell_type": "markdown",
      "source": [
        "##  ICA-Linear Non-Gaussian Acyclic Model(LiNGAM)"
      ],
      "metadata": {
        "id": "GpX2WvdCjdoQ"
      }
    },
    {
      "cell_type": "code",
      "source": [
        "ICALiNGAM = castle.algorithms.ICALiNGAM()\n",
        "ICALiNGAM.learn(pc_dataset)"
      ],
      "metadata": {
        "id": "vAVbWn8FhgVc"
      },
      "execution_count": 23,
      "outputs": []
    },
    {
      "cell_type": "code",
      "source": [
        "ICALiNGAM.causal_matrix"
      ],
      "metadata": {
        "colab": {
          "base_uri": "https://localhost:8080/"
        },
        "id": "IyKurXg5hqxA",
        "outputId": "ad14359e-b27b-4d82-e638-47a8a8759736"
      },
      "execution_count": 24,
      "outputs": [
        {
          "output_type": "execute_result",
          "data": {
            "text/plain": [
              "Tensor([[0, 0, 0, 0, 0, 0, 0, 0, 0, 1, 0],\n",
              "        [1, 0, 0, 0, 0, 0, 0, 0, 0, 1, 0],\n",
              "        [0, 0, 0, 0, 0, 0, 0, 0, 0, 0, 0],\n",
              "        [0, 0, 0, 0, 0, 0, 0, 0, 0, 0, 0],\n",
              "        [0, 0, 0, 0, 0, 0, 0, 0, 0, 0, 0],\n",
              "        [0, 0, 0, 0, 0, 0, 1, 0, 0, 0, 0],\n",
              "        [0, 0, 0, 0, 0, 0, 0, 0, 0, 0, 0],\n",
              "        [0, 0, 0, 0, 0, 0, 0, 0, 0, 1, 0],\n",
              "        [0, 0, 0, 0, 0, 0, 0, 0, 0, 1, 0],\n",
              "        [0, 0, 0, 0, 0, 0, 0, 0, 0, 0, 0],\n",
              "        [0, 0, 0, 0, 0, 0, 0, 0, 0, 0, 0]])"
            ]
          },
          "metadata": {},
          "execution_count": 24
        }
      ]
    },
    {
      "cell_type": "code",
      "source": [
        "# Get learned graph\n",
        "learned_graph = nx.DiGraph(ICALiNGAM.causal_matrix)\n",
        "\n",
        "# Relabel the nodes\n",
        "MAPPING = {k: v for k, v in zip(range(len(list_name)), list_name)}\n",
        "learned_graph = nx.relabel_nodes(learned_graph, MAPPING, copy=True)\n",
        "\n",
        "# Plot the graph\n",
        "nx.draw(\n",
        "    learned_graph, \n",
        "    with_labels=True,\n",
        "    node_size=800,\n",
        "    font_size=18,\n",
        "    font_color='white'\n",
        ")"
      ],
      "metadata": {
        "colab": {
          "base_uri": "https://localhost:8080/",
          "height": 319
        },
        "id": "N1bKPexodIrM",
        "outputId": "d6f22ba4-c147-4e67-eb3d-c6beba8d0c33"
      },
      "execution_count": 25,
      "outputs": [
        {
          "output_type": "display_data",
          "data": {
            "text/plain": [
              "<Figure size 432x288 with 1 Axes>"
            ],
            "image/png": "[encoded data removed]"
          },
          "metadata": {}
        }
      ]
    },
    {
      "cell_type": "markdown",
      "source": [
        "## FCI \n"
      ],
      "metadata": {
        "id": "AMj_82PyjlbE"
      }
    },
    {
      "cell_type": "code",
      "source": [
        "!pip install causal-learn\n",
        "from causallearn.search.ConstraintBased.FCI import fci"
      ],
      "metadata": {
        "id": "joN2HVyCQ8hU"
      },
      "execution_count": null,
      "outputs": []
    },
    {
      "cell_type": "code",
      "source": [
        "df_np = df.to_numpy()\n",
        "fci(df_np)"
      ],
      "metadata": {
        "id": "3JxFUY9PrLUk"
      },
      "execution_count": null,
      "outputs": []
    },
    {
      "cell_type": "code",
      "source": [
        "# or customized parameters\n",
        "G, edges = fci(df_np)\n",
        "# visualization\n",
        "from causallearn.utils.GraphUtils import GraphUtils\n",
        "pdy = GraphUtils.to_pydot(G, labels=list_name)\n",
        "pdy.write_png('fci.png')\n"
      ],
      "metadata": {
        "colab": {
          "base_uri": "https://localhost:8080/",
          "height": 122,
          "referenced_widgets": [
            "d47b985fd53f4f85a492bba0af85cd3e",
            "3fe18bc731a648c0a5cbf1fe198207b5",
            "0e040b3190374848950d351ee2e1388c",
            "778b2fa79f184003b7422350dfce3562",
            "ea6a322c4bf14ec4970076c288210978",
            "fd24ace9658146b99d23e47c3d0f74ee",
            "39a0e68bb1b94175aad8f8fa34bd9bd5",
            "acc167ca02a5473eb0ff26157f992d48",
            "8430786827e448b5a46b7855ded0815a",
            "8723037c29e14f21b642c015e9b81e6a",
            "0fa90afa77db45f698b986227d3e927f"
          ]
        },
        "id": "-ytHkAZrrVBX",
        "outputId": "eeb36414-7347-40b4-ad27-daf75bda4627"
      },
      "execution_count": 28,
      "outputs": [
        {
          "output_type": "display_data",
          "data": {
            "text/plain": [
              "  0%|          | 0/11 [00:00<?, ?it/s]"
            ],
            "application/vnd.jupyter.widget-view+json": {
              "version_major": 2,
              "version_minor": 0,
              "model_id": "d47b985fd53f4f85a492bba0af85cd3e"
            }
          },
          "metadata": {}
        },
        {
          "output_type": "stream",
          "name": "stdout",
          "text": [
            "X3 --> X1\n",
            "X1 --> X10\n",
            "X2 --> X3\n",
            "X8 --> X9\n"
          ]
        }
      ]
    },
    {
      "cell_type": "markdown",
      "source": [
        "## GES"
      ],
      "metadata": {
        "id": "loV12aoFBrbK"
      }
    },
    {
      "cell_type": "code",
      "source": [
        "from causallearn.search.ScoreBased.GES import ges"
      ],
      "metadata": {
        "id": "uRFXR5J_BtSU"
      },
      "execution_count": 29,
      "outputs": []
    },
    {
      "cell_type": "code",
      "source": [
        "# default parameters\n",
        "Record = ges(df_np)"
      ],
      "metadata": {
        "id": "YROEYW1gBwOD"
      },
      "execution_count": null,
      "outputs": []
    },
    {
      "cell_type": "code",
      "source": [
        "# Visualization using pydot\n",
        "from causallearn.utils.GraphUtils import GraphUtils\n",
        "import matplotlib.image as mpimg\n",
        "import matplotlib.pyplot as plt\n",
        "import io\n",
        "pyd = GraphUtils.to_pydot(Record['G'],labels=list_name)\n",
        "tmp_png = pyd.create_png(f=\"png\")\n",
        "pyd.write_png('GES.png')"
      ],
      "metadata": {
        "id": "QA1QJeZ6B9Oo"
      },
      "execution_count": 32,
      "outputs": []
    },
    {
      "cell_type": "markdown",
      "source": [
        "## Direct-LiNGAM"
      ],
      "metadata": {
        "id": "qokVScFLNeGS"
      }
    },
    {
      "cell_type": "code",
      "source": [
        "!pip install lingam"
      ],
      "metadata": {
        "id": "PqkdSA6RNhzf"
      },
      "execution_count": null,
      "outputs": []
    },
    {
      "cell_type": "code",
      "source": [
        "import graphviz\n",
        "import lingam\n",
        "from lingam.utils import make_dot"
      ],
      "metadata": {
        "id": "ekfxcvvUCFCb"
      },
      "execution_count": 34,
      "outputs": []
    },
    {
      "cell_type": "code",
      "source": [
        "model = lingam.DirectLiNGAM()\n",
        "model.fit(df)"
      ],
      "metadata": {
        "colab": {
          "base_uri": "https://localhost:8080/"
        },
        "id": "sLhG3b2NNfP8",
        "outputId": "d874a6b9-04ee-496f-ae69-7e89c077f5b4"
      },
      "execution_count": 35,
      "outputs": [
        {
          "output_type": "execute_result",
          "data": {
            "text/plain": [
              "<lingam.direct_lingam.DirectLiNGAM at 0x7f6f07ea6cd0>"
            ]
          },
          "metadata": {},
          "execution_count": 35
        }
      ]
    },
    {
      "cell_type": "code",
      "source": [
        "# see the adjacency matrix as a result of the causal discovery.\n",
        "model.adjacency_matrix_"
      ],
      "metadata": {
        "id": "qL_gRH38OV_c"
      },
      "execution_count": null,
      "outputs": []
    },
    {
      "cell_type": "code",
      "source": [
        "make_dot(model.adjacency_matrix_)\n",
        "dot = make_dot(model.adjacency_matrix_)\n",
        "\n",
        "# Save pdf\n",
        "dot.render('direct')\n",
        "\n",
        "# Save png\n",
        "dot.format = 'png'\n",
        "dot.render('direct|')\n",
        "\n",
        "dot"
      ],
      "metadata": {
        "id": "MMYL7ypvOaR0"
      },
      "execution_count": null,
      "outputs": []
    }
  ]
}