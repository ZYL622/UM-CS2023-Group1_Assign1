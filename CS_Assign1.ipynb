{
  "nbformat": 4,
  "nbformat_minor": 0,
  "metadata": {
    "colab": {
      "provenance": []
    },
    "kernelspec": {
      "name": "python3",
      "display_name": "Python 3"
    },
    "language_info": {
      "name": "python"
    },
    "widgets": {
      "application/vnd.jupyter.widget-state+json": {
        "04f1ac91a8064770898c6c6604a51723": {
          "model_module": "@jupyter-widgets/controls",
          "model_name": "HBoxModel",
          "model_module_version": "1.5.0",
          "state": {
            "_dom_classes": [],
            "_model_module": "@jupyter-widgets/controls",
            "_model_module_version": "1.5.0",
            "_model_name": "HBoxModel",
            "_view_count": null,
            "_view_module": "@jupyter-widgets/controls",
            "_view_module_version": "1.5.0",
            "_view_name": "HBoxView",
            "box_style": "",
            "children": [
              "IPY_MODEL_b1018ff1fd564c95989ec00b016ae6d4",
              "IPY_MODEL_9c104ade7e4a4c37baa7ba9c7ab9c55a",
              "IPY_MODEL_eaabab960db646178a61cf992c1edbbe"
            ],
            "layout": "IPY_MODEL_bfe7dcebb27a4fab96966cdc966cd3ef"
          }
        },
        "b1018ff1fd564c95989ec00b016ae6d4": {
          "model_module": "@jupyter-widgets/controls",
          "model_name": "HTMLModel",
          "model_module_version": "1.5.0",
          "state": {
            "_dom_classes": [],
            "_model_module": "@jupyter-widgets/controls",
            "_model_module_version": "1.5.0",
            "_model_name": "HTMLModel",
            "_view_count": null,
            "_view_module": "@jupyter-widgets/controls",
            "_view_module_version": "1.5.0",
            "_view_name": "HTMLView",
            "description": "",
            "description_tooltip": null,
            "layout": "IPY_MODEL_9d1422c15f854c2baa9bba614ee0964e",
            "placeholder": "​",
            "style": "IPY_MODEL_5ba5cccf834643e9a9a2f10fe8fb205f",
            "value": "Depth=5, working on node 10: 100%"
          }
        },
        "9c104ade7e4a4c37baa7ba9c7ab9c55a": {
          "model_module": "@jupyter-widgets/controls",
          "model_name": "FloatProgressModel",
          "model_module_version": "1.5.0",
          "state": {
            "_dom_classes": [],
            "_model_module": "@jupyter-widgets/controls",
            "_model_module_version": "1.5.0",
            "_model_name": "FloatProgressModel",
            "_view_count": null,
            "_view_module": "@jupyter-widgets/controls",
            "_view_module_version": "1.5.0",
            "_view_name": "ProgressView",
            "bar_style": "success",
            "description": "",
            "description_tooltip": null,
            "layout": "IPY_MODEL_680e65233e6b41729442f42dc81a2149",
            "max": 11,
            "min": 0,
            "orientation": "horizontal",
            "style": "IPY_MODEL_515be794b5924c7d92e9000d7b6b99d7",
            "value": 11
          }
        },
        "eaabab960db646178a61cf992c1edbbe": {
          "model_module": "@jupyter-widgets/controls",
          "model_name": "HTMLModel",
          "model_module_version": "1.5.0",
          "state": {
            "_dom_classes": [],
            "_model_module": "@jupyter-widgets/controls",
            "_model_module_version": "1.5.0",
            "_model_name": "HTMLModel",
            "_view_count": null,
            "_view_module": "@jupyter-widgets/controls",
            "_view_module_version": "1.5.0",
            "_view_name": "HTMLView",
            "description": "",
            "description_tooltip": null,
            "layout": "IPY_MODEL_34e3ccf7b17e45adb400f8b88fbefa03",
            "placeholder": "​",
            "style": "IPY_MODEL_c9227edeea094ea890ee649225d2456c",
            "value": " 11/11 [00:00&lt;00:00, 120.37it/s]"
          }
        },
        "bfe7dcebb27a4fab96966cdc966cd3ef": {
          "model_module": "@jupyter-widgets/base",
          "model_name": "LayoutModel",
          "model_module_version": "1.2.0",
          "state": {
            "_model_module": "@jupyter-widgets/base",
            "_model_module_version": "1.2.0",
            "_model_name": "LayoutModel",
            "_view_count": null,
            "_view_module": "@jupyter-widgets/base",
            "_view_module_version": "1.2.0",
            "_view_name": "LayoutView",
            "align_content": null,
            "align_items": null,
            "align_self": null,
            "border": null,
            "bottom": null,
            "display": null,
            "flex": null,
            "flex_flow": null,
            "grid_area": null,
            "grid_auto_columns": null,
            "grid_auto_flow": null,
            "grid_auto_rows": null,
            "grid_column": null,
            "grid_gap": null,
            "grid_row": null,
            "grid_template_areas": null,
            "grid_template_columns": null,
            "grid_template_rows": null,
            "height": null,
            "justify_content": null,
            "justify_items": null,
            "left": null,
            "margin": null,
            "max_height": null,
            "max_width": null,
            "min_height": null,
            "min_width": null,
            "object_fit": null,
            "object_position": null,
            "order": null,
            "overflow": null,
            "overflow_x": null,
            "overflow_y": null,
            "padding": null,
            "right": null,
            "top": null,
            "visibility": null,
            "width": null
          }
        },
        "9d1422c15f854c2baa9bba614ee0964e": {
          "model_module": "@jupyter-widgets/base",
          "model_name": "LayoutModel",
          "model_module_version": "1.2.0",
          "state": {
            "_model_module": "@jupyter-widgets/base",
            "_model_module_version": "1.2.0",
            "_model_name": "LayoutModel",
            "_view_count": null,
            "_view_module": "@jupyter-widgets/base",
            "_view_module_version": "1.2.0",
            "_view_name": "LayoutView",
            "align_content": null,
            "align_items": null,
            "align_self": null,
            "border": null,
            "bottom": null,
            "display": null,
            "flex": null,
            "flex_flow": null,
            "grid_area": null,
            "grid_auto_columns": null,
            "grid_auto_flow": null,
            "grid_auto_rows": null,
            "grid_column": null,
            "grid_gap": null,
            "grid_row": null,
            "grid_template_areas": null,
            "grid_template_columns": null,
            "grid_template_rows": null,
            "height": null,
            "justify_content": null,
            "justify_items": null,
            "left": null,
            "margin": null,
            "max_height": null,
            "max_width": null,
            "min_height": null,
            "min_width": null,
            "object_fit": null,
            "object_position": null,
            "order": null,
            "overflow": null,
            "overflow_x": null,
            "overflow_y": null,
            "padding": null,
            "right": null,
            "top": null,
            "visibility": null,
            "width": null
          }
        },
        "5ba5cccf834643e9a9a2f10fe8fb205f": {
          "model_module": "@jupyter-widgets/controls",
          "model_name": "DescriptionStyleModel",
          "model_module_version": "1.5.0",
          "state": {
            "_model_module": "@jupyter-widgets/controls",
            "_model_module_version": "1.5.0",
            "_model_name": "DescriptionStyleModel",
            "_view_count": null,
            "_view_module": "@jupyter-widgets/base",
            "_view_module_version": "1.2.0",
            "_view_name": "StyleView",
            "description_width": ""
          }
        },
        "680e65233e6b41729442f42dc81a2149": {
          "model_module": "@jupyter-widgets/base",
          "model_name": "LayoutModel",
          "model_module_version": "1.2.0",
          "state": {
            "_model_module": "@jupyter-widgets/base",
            "_model_module_version": "1.2.0",
            "_model_name": "LayoutModel",
            "_view_count": null,
            "_view_module": "@jupyter-widgets/base",
            "_view_module_version": "1.2.0",
            "_view_name": "LayoutView",
            "align_content": null,
            "align_items": null,
            "align_self": null,
            "border": null,
            "bottom": null,
            "display": null,
            "flex": null,
            "flex_flow": null,
            "grid_area": null,
            "grid_auto_columns": null,
            "grid_auto_flow": null,
            "grid_auto_rows": null,
            "grid_column": null,
            "grid_gap": null,
            "grid_row": null,
            "grid_template_areas": null,
            "grid_template_columns": null,
            "grid_template_rows": null,
            "height": null,
            "justify_content": null,
            "justify_items": null,
            "left": null,
            "margin": null,
            "max_height": null,
            "max_width": null,
            "min_height": null,
            "min_width": null,
            "object_fit": null,
            "object_position": null,
            "order": null,
            "overflow": null,
            "overflow_x": null,
            "overflow_y": null,
            "padding": null,
            "right": null,
            "top": null,
            "visibility": null,
            "width": null
          }
        },
        "515be794b5924c7d92e9000d7b6b99d7": {
          "model_module": "@jupyter-widgets/controls",
          "model_name": "ProgressStyleModel",
          "model_module_version": "1.5.0",
          "state": {
            "_model_module": "@jupyter-widgets/controls",
            "_model_module_version": "1.5.0",
            "_model_name": "ProgressStyleModel",
            "_view_count": null,
            "_view_module": "@jupyter-widgets/base",
            "_view_module_version": "1.2.0",
            "_view_name": "StyleView",
            "bar_color": null,
            "description_width": ""
          }
        },
        "34e3ccf7b17e45adb400f8b88fbefa03": {
          "model_module": "@jupyter-widgets/base",
          "model_name": "LayoutModel",
          "model_module_version": "1.2.0",
          "state": {
            "_model_module": "@jupyter-widgets/base",
            "_model_module_version": "1.2.0",
            "_model_name": "LayoutModel",
            "_view_count": null,
            "_view_module": "@jupyter-widgets/base",
            "_view_module_version": "1.2.0",
            "_view_name": "LayoutView",
            "align_content": null,
            "align_items": null,
            "align_self": null,
            "border": null,
            "bottom": null,
            "display": null,
            "flex": null,
            "flex_flow": null,
            "grid_area": null,
            "grid_auto_columns": null,
            "grid_auto_flow": null,
            "grid_auto_rows": null,
            "grid_column": null,
            "grid_gap": null,
            "grid_row": null,
            "grid_template_areas": null,
            "grid_template_columns": null,
            "grid_template_rows": null,
            "height": null,
            "justify_content": null,
            "justify_items": null,
            "left": null,
            "margin": null,
            "max_height": null,
            "max_width": null,
            "min_height": null,
            "min_width": null,
            "object_fit": null,
            "object_position": null,
            "order": null,
            "overflow": null,
            "overflow_x": null,
            "overflow_y": null,
            "padding": null,
            "right": null,
            "top": null,
            "visibility": null,
            "width": null
          }
        },
        "c9227edeea094ea890ee649225d2456c": {
          "model_module": "@jupyter-widgets/controls",
          "model_name": "DescriptionStyleModel",
          "model_module_version": "1.5.0",
          "state": {
            "_model_module": "@jupyter-widgets/controls",
            "_model_module_version": "1.5.0",
            "_model_name": "DescriptionStyleModel",
            "_view_count": null,
            "_view_module": "@jupyter-widgets/base",
            "_view_module_version": "1.2.0",
            "_view_name": "StyleView",
            "description_width": ""
          }
        }
      }
    }
  },
  "cells": [
    {
      "cell_type": "markdown",
      "source": [
        "# Causal Discovery from Observational Data - Group 1\n"
      ],
      "metadata": {
        "id": "uE57Rmv9Ekpn"
      }
    },
    {
      "cell_type": "markdown",
      "source": [
        "## PC algorithm"
      ],
      "metadata": {
        "id": "fwsoB2C7ODjh"
      }
    },
    {
      "cell_type": "code",
      "source": [
        "!pip install ges\n",
        "!pip install castle\n",
        "!pip install gcastle==1.0.3\n",
        "import ges\n",
        "import castle"
      ],
      "metadata": {
        "id": "UAFs2TTP514v"
      },
      "execution_count": null,
      "outputs": []
    },
    {
      "cell_type": "code",
      "execution_count": null,
      "metadata": {
        "id": "dk3SZs4M06hr"
      },
      "outputs": [],
      "source": [
        "import os\n",
        "os.environ['CASTLE_BACKEND'] = 'pytorch'\n",
        "\n",
        "from collections import OrderedDict\n",
        "import warnings\n",
        "\n",
        "import numpy as np\n",
        "import networkx as nx\n",
        "import pandas as pd\n",
        "\n",
        "from castle.common import GraphDAG\n",
        "from castle.metrics import MetricsDAG\n",
        "from castle.datasets import IIDSimulation, DAG\n",
        "from castle.algorithms import PC, ICALiNGAM, GOLEM\n",
        "\n",
        "import matplotlib.pyplot as plt"
      ]
    },
    {
      "cell_type": "code",
      "source": [
        "# Mute warnings - for the sake of presentation clarity\n",
        "# Should be removed for real-life applications\n",
        "warnings.simplefilter('ignore')"
      ],
      "metadata": {
        "id": "Okqe8d4o5xAf"
      },
      "execution_count": null,
      "outputs": []
    },
    {
      "cell_type": "code",
      "source": [
        "# Loads data\n",
        "df = pd.read_csv(\"a1_data.csv\")"
      ],
      "metadata": {
        "id": "O051h-piKFZu"
      },
      "execution_count": null,
      "outputs": []
    },
    {
      "cell_type": "code",
      "source": [
        "df[-1:]"
      ],
      "metadata": {
        "colab": {
          "base_uri": "https://localhost:8080/",
          "height": 145
        },
        "id": "ZWH6N3L52p-b",
        "outputId": "e34d9fcf-75ea-4f2d-d3f3-8e14b733377c"
      },
      "execution_count": null,
      "outputs": [
        {
          "output_type": "execute_result",
          "data": {
            "text/plain": [
              "             A         B         C         D         E         F         G  \\\n",
              "11671  3.58636  2.832224  3.242749  3.792578  2.887171  2.085967  2.402463   \n",
              "\n",
              "              H         I         J         K  \n",
              "11671  3.789189  2.699285  0.730129  3.041706  "
            ],
            "text/html": [
              "\n",
              "  <div id=\"df-6132e338-a9a7-47b9-9ae9-540b71972a98\">\n",
              "    <div class=\"colab-df-container\">\n",
              "      <div>\n",
              "<style scoped>\n",
              "    .dataframe tbody tr th:only-of-type {\n",
              "        vertical-align: middle;\n",
              "    }\n",
              "\n",
              "    .dataframe tbody tr th {\n",
              "        vertical-align: top;\n",
              "    }\n",
              "\n",
              "    .dataframe thead th {\n",
              "        text-align: right;\n",
              "    }\n",
              "</style>\n",
              "<table border=\"1\" class=\"dataframe\">\n",
              "  <thead>\n",
              "    <tr style=\"text-align: right;\">\n",
              "      <th></th>\n",
              "      <th>A</th>\n",
              "      <th>B</th>\n",
              "      <th>C</th>\n",
              "      <th>D</th>\n",
              "      <th>E</th>\n",
              "      <th>F</th>\n",
              "      <th>G</th>\n",
              "      <th>H</th>\n",
              "      <th>I</th>\n",
              "      <th>J</th>\n",
              "      <th>K</th>\n",
              "    </tr>\n",
              "  </thead>\n",
              "  <tbody>\n",
              "    <tr>\n",
              "      <th>11671</th>\n",
              "      <td>3.58636</td>\n",
              "      <td>2.832224</td>\n",
              "      <td>3.242749</td>\n",
              "      <td>3.792578</td>\n",
              "      <td>2.887171</td>\n",
              "      <td>2.085967</td>\n",
              "      <td>2.402463</td>\n",
              "      <td>3.789189</td>\n",
              "      <td>2.699285</td>\n",
              "      <td>0.730129</td>\n",
              "      <td>3.041706</td>\n",
              "    </tr>\n",
              "  </tbody>\n",
              "</table>\n",
              "</div>\n",
              "      <button class=\"colab-df-convert\" onclick=\"convertToInteractive('df-6132e338-a9a7-47b9-9ae9-540b71972a98')\"\n",
              "              title=\"Convert this dataframe to an interactive table.\"\n",
              "              style=\"display:none;\">\n",
              "        \n",
              "  <svg xmlns=\"http://www.w3.org/2000/svg\" height=\"24px\"viewBox=\"0 0 24 24\"\n",
              "       width=\"24px\">\n",
              "    <path d=\"M0 0h24v24H0V0z\" fill=\"none\"/>\n",
              "    <path d=\"M18.56 5.44l.94 2.06.94-2.06 2.06-.94-2.06-.94-.94-2.06-.94 2.06-2.06.94zm-11 1L8.5 8.5l.94-2.06 2.06-.94-2.06-.94L8.5 2.5l-.94 2.06-2.06.94zm10 10l.94 2.06.94-2.06 2.06-.94-2.06-.94-.94-2.06-.94 2.06-2.06.94z\"/><path d=\"M17.41 7.96l-1.37-1.37c-.4-.4-.92-.59-1.43-.59-.52 0-1.04.2-1.43.59L10.3 9.45l-7.72 7.72c-.78.78-.78 2.05 0 2.83L4 21.41c.39.39.9.59 1.41.59.51 0 1.02-.2 1.41-.59l7.78-7.78 2.81-2.81c.8-.78.8-2.07 0-2.86zM5.41 20L4 18.59l7.72-7.72 1.47 1.35L5.41 20z\"/>\n",
              "  </svg>\n",
              "      </button>\n",
              "      \n",
              "  <style>\n",
              "    .colab-df-container {\n",
              "      display:flex;\n",
              "      flex-wrap:wrap;\n",
              "      gap: 12px;\n",
              "    }\n",
              "\n",
              "    .colab-df-convert {\n",
              "      background-color: #E8F0FE;\n",
              "      border: none;\n",
              "      border-radius: 50%;\n",
              "      cursor: pointer;\n",
              "      display: none;\n",
              "      fill: #1967D2;\n",
              "      height: 32px;\n",
              "      padding: 0 0 0 0;\n",
              "      width: 32px;\n",
              "    }\n",
              "\n",
              "    .colab-df-convert:hover {\n",
              "      background-color: #E2EBFA;\n",
              "      box-shadow: 0px 1px 2px rgba(60, 64, 67, 0.3), 0px 1px 3px 1px rgba(60, 64, 67, 0.15);\n",
              "      fill: #174EA6;\n",
              "    }\n",
              "\n",
              "    [theme=dark] .colab-df-convert {\n",
              "      background-color: #3B4455;\n",
              "      fill: #D2E3FC;\n",
              "    }\n",
              "\n",
              "    [theme=dark] .colab-df-convert:hover {\n",
              "      background-color: #434B5C;\n",
              "      box-shadow: 0px 1px 3px 1px rgba(0, 0, 0, 0.15);\n",
              "      filter: drop-shadow(0px 1px 2px rgba(0, 0, 0, 0.3));\n",
              "      fill: #FFFFFF;\n",
              "    }\n",
              "  </style>\n",
              "\n",
              "      <script>\n",
              "        const buttonEl =\n",
              "          document.querySelector('#df-6132e338-a9a7-47b9-9ae9-540b71972a98 button.colab-df-convert');\n",
              "        buttonEl.style.display =\n",
              "          google.colab.kernel.accessAllowed ? 'block' : 'none';\n",
              "\n",
              "        async function convertToInteractive(key) {\n",
              "          const element = document.querySelector('#df-6132e338-a9a7-47b9-9ae9-540b71972a98');\n",
              "          const dataTable =\n",
              "            await google.colab.kernel.invokeFunction('convertToInteractive',\n",
              "                                                     [key], {});\n",
              "          if (!dataTable) return;\n",
              "\n",
              "          const docLinkHtml = 'Like what you see? Visit the ' +\n",
              "            '<a target=\"_blank\" href=https://colab.research.google.com/notebooks/data_table.ipynb>data table notebook</a>'\n",
              "            + ' to learn more about interactive tables.';\n",
              "          element.innerHTML = '';\n",
              "          dataTable['output_type'] = 'display_data';\n",
              "          await google.colab.output.renderOutput(dataTable, element);\n",
              "          const docLink = document.createElement('div');\n",
              "          docLink.innerHTML = docLinkHtml;\n",
              "          element.appendChild(docLink);\n",
              "        }\n",
              "      </script>\n",
              "    </div>\n",
              "  </div>\n",
              "  "
            ]
          },
          "metadata": {},
          "execution_count": 11
        }
      ]
    },
    {
      "cell_type": "code",
      "source": [
        "cols = df.columns.tolist()\n",
        "cols = cols[-1:] + cols[:-1]\n",
        "df_new = df[cols]\n",
        "df_new.head()\n",
        "\n",
        "list_name_new = []\n",
        "for index,row in df_new.iteritems():\n",
        "  list_name_new.append(index)\n",
        "list_name_new\n",
        "\n",
        "pc_dataset_new = df_new\n",
        "\n",
        "# Build the model\n",
        "pc_new = castle.algorithms.PC()\n",
        "pc_new.learn(pc_dataset_new)\n",
        "\n",
        "pc_new.causal_matrix"
      ],
      "metadata": {
        "colab": {
          "base_uri": "https://localhost:8080/"
        },
        "id": "x5xCaPZ22eyG",
        "outputId": "5711f98e-b66f-4b75-954f-5f70ffa6df3f"
      },
      "execution_count": null,
      "outputs": [
        {
          "output_type": "execute_result",
          "data": {
            "text/plain": [
              "Tensor([[0, 0, 0, 1, 0, 1, 0, 1, 1, 0, 0],\n",
              "        [1, 0, 1, 1, 0, 0, 0, 0, 1, 0, 1],\n",
              "        [0, 0, 0, 1, 0, 0, 0, 0, 0, 0, 1],\n",
              "        [0, 0, 0, 0, 0, 0, 0, 0, 0, 0, 0],\n",
              "        [0, 0, 0, 1, 0, 1, 0, 0, 0, 0, 1],\n",
              "        [0, 0, 0, 1, 0, 0, 0, 0, 0, 0, 0],\n",
              "        [0, 0, 1, 1, 0, 0, 0, 1, 1, 0, 1],\n",
              "        [0, 0, 0, 0, 0, 0, 0, 0, 0, 0, 0],\n",
              "        [0, 0, 0, 0, 0, 1, 0, 0, 0, 0, 1],\n",
              "        [1, 0, 0, 0, 0, 0, 0, 0, 1, 0, 1],\n",
              "        [0, 0, 0, 0, 0, 0, 0, 0, 0, 0, 0]])"
            ]
          },
          "metadata": {},
          "execution_count": 13
        }
      ]
    },
    {
      "cell_type": "code",
      "source": [
        "# Get learned graph\n",
        "learned_graph = nx.DiGraph(pc_new.causal_matrix)\n",
        "\n",
        "# Relabel the nodes\n",
        "MAPPING = {k: v for k, v in zip(range(len(list_name_new)), list_name_new)}\n",
        "learned_graph = nx.relabel_nodes(learned_graph, MAPPING, copy=True)\n",
        "\n",
        "# Plot the graph\n",
        "nx.draw(\n",
        "    learned_graph, \n",
        "    with_labels=True,\n",
        "    node_size=800,\n",
        "    font_size=15,\n",
        "    font_color='white'\n",
        ")"
      ],
      "metadata": {
        "colab": {
          "base_uri": "https://localhost:8080/",
          "height": 319
        },
        "id": "RgVy39cF3cLk",
        "outputId": "12690999-31b4-440d-d0a3-274bae48b7d5"
      },
      "execution_count": null,
      "outputs": [
        {
          "output_type": "display_data",
          "data": {
            "text/plain": [
              "<Figure size 432x288 with 1 Axes>"
            ],
            "image/png": "[encoded data removed]"
          },
          "metadata": {}
        }
      ]
    },
    {
      "cell_type": "code",
      "source": [
        "list_name = []\n",
        "for index,row in df.iteritems():\n",
        "  list_name.append(index)\n",
        "list_name"
      ],
      "metadata": {
        "id": "K9MSmk6hKrEQ"
      },
      "execution_count": null,
      "outputs": []
    },
    {
      "cell_type": "code",
      "source": [
        "New_pc_dataset = "
      ],
      "metadata": {
        "id": "d8bHYLJLu5eN"
      },
      "execution_count": null,
      "outputs": []
    },
    {
      "cell_type": "code",
      "source": [
        "# To matrix\n",
        "pc_dataset = df"
      ],
      "metadata": {
        "id": "l1ytPyYV60Wx"
      },
      "execution_count": null,
      "outputs": []
    },
    {
      "cell_type": "code",
      "source": [
        "# Sanity check\n",
        "pc_dataset, pc_dataset.shape"
      ],
      "metadata": {
        "id": "3KJrhTww61tp"
      },
      "execution_count": null,
      "outputs": []
    },
    {
      "cell_type": "code",
      "source": [
        "# Build the model\n",
        "pc = castle.algorithms.PC()\n",
        "pc.learn(pc_dataset)"
      ],
      "metadata": {
        "id": "Owc56NyD63Lj"
      },
      "execution_count": null,
      "outputs": []
    },
    {
      "cell_type": "code",
      "source": [
        "pc.causal_matrix"
      ],
      "metadata": {
        "colab": {
          "base_uri": "https://localhost:8080/"
        },
        "id": "SIaJz0no64zu",
        "outputId": "3e99df67-3ed0-40db-f78f-4d06cd79411b"
      },
      "execution_count": null,
      "outputs": [
        {
          "output_type": "execute_result",
          "data": {
            "text/plain": [
              "Tensor([[0, 1, 1, 0, 0, 0, 0, 1, 0, 1, 1],\n",
              "        [0, 0, 1, 0, 0, 0, 0, 0, 0, 1, 0],\n",
              "        [0, 0, 0, 0, 0, 0, 0, 0, 0, 0, 1],\n",
              "        [0, 0, 1, 0, 1, 0, 0, 0, 0, 1, 0],\n",
              "        [0, 0, 1, 0, 0, 0, 0, 0, 0, 0, 0],\n",
              "        [0, 1, 1, 0, 0, 0, 1, 1, 0, 1, 0],\n",
              "        [0, 0, 0, 0, 0, 0, 0, 0, 0, 0, 1],\n",
              "        [0, 0, 0, 0, 1, 0, 0, 0, 0, 1, 1],\n",
              "        [0, 0, 0, 0, 0, 0, 0, 1, 0, 1, 1],\n",
              "        [0, 0, 0, 0, 0, 0, 0, 0, 0, 0, 0],\n",
              "        [0, 0, 0, 0, 1, 0, 0, 0, 0, 0, 0]])"
            ]
          },
          "metadata": {},
          "execution_count": 25
        }
      ]
    },
    {
      "cell_type": "code",
      "source": [
        "np.sum(pc.causal_matrix,axis=1) # row out\n",
        "np.sum(pc.causal_matrix,axis=0) # column in"
      ],
      "metadata": {
        "colab": {
          "base_uri": "https://localhost:8080/"
        },
        "id": "7NUpp5OgaEKp",
        "outputId": "9ec14f5c-6366-40e6-c7c2-58bebd991c2f"
      },
      "execution_count": null,
      "outputs": [
        {
          "output_type": "execute_result",
          "data": {
            "text/plain": [
              "Tensor([5, 2, 1, 3, 1, 5, 1, 3, 3, 0, 1])"
            ]
          },
          "metadata": {},
          "execution_count": 46
        }
      ]
    },
    {
      "cell_type": "code",
      "source": [
        "# Get learned graph\n",
        "learned_graph = nx.DiGraph(pc.causal_matrix)\n",
        "\n",
        "# Relabel the nodes\n",
        "MAPPING = {k: v for k, v in zip(range(len(list_name)), list_name)}\n",
        "learned_graph = nx.relabel_nodes(learned_graph, MAPPING, copy=True)\n",
        "\n",
        "# Plot the graph\n",
        "nx.draw(\n",
        "    learned_graph, \n",
        "    with_labels=True,\n",
        "    node_size=800,\n",
        "    font_size=15,\n",
        "    font_color='white'\n",
        ")"
      ],
      "metadata": {
        "colab": {
          "base_uri": "https://localhost:8080/",
          "height": 319
        },
        "id": "u5uulEId7h7b",
        "outputId": "d78c6883-d8ba-4244-8daf-72f6a9ed39e7"
      },
      "execution_count": null,
      "outputs": [
        {
          "output_type": "display_data",
          "data": {
            "text/plain": [
              "<Figure size 432x288 with 1 Axes>"
            ],
            "image/png": "[encoded data removed]"
          },
          "metadata": {}
        }
      ]
    },
    {
      "cell_type": "markdown",
      "source": [
        "## Gradient-based Optimization of dag-penalized Likelihood for learning linEar dag Models (GOLEM)"
      ],
      "metadata": {
        "id": "56i9RoJ0O083"
      }
    },
    {
      "cell_type": "code",
      "source": [
        "GOLEM = castle.algorithms.GOLEM()\n",
        "GOLEM.learn(pc_dataset)"
      ],
      "metadata": {
        "id": "UmyqL-_ic4ZV"
      },
      "execution_count": null,
      "outputs": []
    },
    {
      "cell_type": "code",
      "source": [
        "GOLEM.causal_matrix"
      ],
      "metadata": {
        "id": "3s4sFJSqc-YZ"
      },
      "execution_count": null,
      "outputs": []
    },
    {
      "cell_type": "markdown",
      "source": [
        "##  ICA-Linear Non-Gaussian Acyclic Model(LiNGAM)"
      ],
      "metadata": {
        "id": "GpX2WvdCjdoQ"
      }
    },
    {
      "cell_type": "code",
      "source": [
        "ICALiNGAM = castle.algorithms.ICALiNGAM()\n",
        "ICALiNGAM.learn(pc_dataset)"
      ],
      "metadata": {
        "id": "vAVbWn8FhgVc"
      },
      "execution_count": null,
      "outputs": []
    },
    {
      "cell_type": "code",
      "source": [
        "ICALiNGAM.causal_matrix"
      ],
      "metadata": {
        "colab": {
          "base_uri": "https://localhost:8080/"
        },
        "id": "IyKurXg5hqxA",
        "outputId": "4fa0c4dd-46a0-43e5-8585-520601c6cbd9"
      },
      "execution_count": null,
      "outputs": [
        {
          "output_type": "execute_result",
          "data": {
            "text/plain": [
              "Tensor([[0, 0, 0, 0, 0, 0, 0, 0, 0, 1, 0],\n",
              "        [1, 0, 0, 0, 0, 0, 0, 0, 0, 1, 0],\n",
              "        [0, 0, 0, 0, 0, 0, 0, 0, 0, 0, 0],\n",
              "        [0, 0, 0, 0, 0, 0, 0, 0, 0, 0, 0],\n",
              "        [0, 0, 0, 0, 0, 0, 0, 0, 0, 0, 0],\n",
              "        [0, 0, 0, 0, 0, 0, 1, 0, 0, 0, 0],\n",
              "        [0, 0, 0, 0, 0, 0, 0, 0, 0, 0, 0],\n",
              "        [0, 0, 0, 0, 0, 0, 0, 0, 0, 1, 0],\n",
              "        [0, 0, 0, 0, 0, 0, 0, 0, 0, 1, 0],\n",
              "        [0, 0, 0, 0, 0, 0, 0, 0, 0, 0, 0],\n",
              "        [0, 0, 0, 0, 0, 0, 0, 0, 0, 0, 0]])"
            ]
          },
          "metadata": {},
          "execution_count": 70
        }
      ]
    },
    {
      "cell_type": "code",
      "source": [
        "# Get learned graph\n",
        "learned_graph = nx.DiGraph(ICALiNGAM.causal_matrix)\n",
        "\n",
        "# Relabel the nodes\n",
        "MAPPING = {k: v for k, v in zip(range(len(list_name)), list_name)}\n",
        "learned_graph = nx.relabel_nodes(learned_graph, MAPPING, copy=True)\n",
        "\n",
        "# Plot the graph\n",
        "nx.draw(\n",
        "    learned_graph, \n",
        "    with_labels=True,\n",
        "    node_size=800,\n",
        "    font_size=18,\n",
        "    font_color='white'\n",
        ")"
      ],
      "metadata": {
        "colab": {
          "base_uri": "https://localhost:8080/",
          "height": 319
        },
        "id": "N1bKPexodIrM",
        "outputId": "993742e9-d5fc-4dfb-cb63-a4173ccfc4c6"
      },
      "execution_count": null,
      "outputs": [
        {
          "output_type": "display_data",
          "data": {
            "text/plain": [
              "<Figure size 432x288 with 1 Axes>"
            ],
            "image/png": "[encoded data removed]"
          },
          "metadata": {}
        }
      ]
    },
    {
      "cell_type": "markdown",
      "source": [
        "## FCI \n"
      ],
      "metadata": {
        "id": "AMj_82PyjlbE"
      }
    },
    {
      "cell_type": "code",
      "source": [
        "!pip install causal-learn\n",
        "from causallearn.search.ConstraintBased.FCI import fci"
      ],
      "metadata": {
        "id": "joN2HVyCQ8hU"
      },
      "execution_count": null,
      "outputs": []
    },
    {
      "cell_type": "code",
      "source": [
        "df_np = df.to_numpy()\n",
        "fci(df_np)"
      ],
      "metadata": {
        "id": "3JxFUY9PrLUk"
      },
      "execution_count": null,
      "outputs": []
    },
    {
      "cell_type": "code",
      "source": [
        "# or customized parameters\n",
        "G, edges = fci(df_np)\n",
        "# visualization\n",
        "from causallearn.utils.GraphUtils import GraphUtils\n",
        "pdy = GraphUtils.to_pydot(G, labels=list_name)\n",
        "pdy.write_png('fci.png')\n"
      ],
      "metadata": {
        "colab": {
          "base_uri": "https://localhost:8080/",
          "height": 146,
          "referenced_widgets": [
            "04f1ac91a8064770898c6c6604a51723",
            "b1018ff1fd564c95989ec00b016ae6d4",
            "9c104ade7e4a4c37baa7ba9c7ab9c55a",
            "eaabab960db646178a61cf992c1edbbe",
            "bfe7dcebb27a4fab96966cdc966cd3ef",
            "9d1422c15f854c2baa9bba614ee0964e",
            "5ba5cccf834643e9a9a2f10fe8fb205f",
            "680e65233e6b41729442f42dc81a2149",
            "515be794b5924c7d92e9000d7b6b99d7",
            "34e3ccf7b17e45adb400f8b88fbefa03",
            "c9227edeea094ea890ee649225d2456c"
          ]
        },
        "id": "-ytHkAZrrVBX",
        "outputId": "02b01a05-7650-441f-d31a-6d8c8171212c"
      },
      "execution_count": null,
      "outputs": [
        {
          "output_type": "display_data",
          "data": {
            "text/plain": [
              "  0%|          | 0/11 [00:00<?, ?it/s]"
            ],
            "application/vnd.jupyter.widget-view+json": {
              "version_major": 2,
              "version_minor": 0,
              "model_id": "04f1ac91a8064770898c6c6604a51723"
            }
          },
          "metadata": {}
        },
        {
          "output_type": "stream",
          "name": "stdout",
          "text": [
            "X3 --> X1\n",
            "X1 --> X10\n",
            "X2 --> X3\n",
            "X8 --> X9\n"
          ]
        }
      ]
    },
    {
      "cell_type": "markdown",
      "source": [
        "## GES"
      ],
      "metadata": {
        "id": "loV12aoFBrbK"
      }
    },
    {
      "cell_type": "code",
      "source": [
        "from causallearn.search.ScoreBased.GES import ges"
      ],
      "metadata": {
        "id": "uRFXR5J_BtSU"
      },
      "execution_count": null,
      "outputs": []
    },
    {
      "cell_type": "code",
      "source": [
        "# default parameters\n",
        "Record = ges(df_np)"
      ],
      "metadata": {
        "id": "YROEYW1gBwOD"
      },
      "execution_count": null,
      "outputs": []
    },
    {
      "cell_type": "code",
      "source": [
        "# Visualization using pydot\n",
        "from causallearn.utils.GraphUtils import GraphUtils\n",
        "import matplotlib.image as mpimg\n",
        "import matplotlib.pyplot as plt\n",
        "import io\n",
        "pyd = GraphUtils.to_pydot(Record['G'])\n",
        "tmp_png = pyd.create_png(f=\"png\")\n",
        "pyd.write_png('GES.png')"
      ],
      "metadata": {
        "id": "QA1QJeZ6B9Oo"
      },
      "execution_count": null,
      "outputs": []
    },
    {
      "cell_type": "markdown",
      "source": [
        "## Direct-LiNGAM"
      ],
      "metadata": {
        "id": "qokVScFLNeGS"
      }
    },
    {
      "cell_type": "code",
      "source": [
        "!pip install lingam"
      ],
      "metadata": {
        "id": "PqkdSA6RNhzf"
      },
      "execution_count": null,
      "outputs": []
    },
    {
      "cell_type": "code",
      "source": [
        "import graphviz\n",
        "import lingam\n",
        "from lingam.utils import make_dot"
      ],
      "metadata": {
        "id": "ekfxcvvUCFCb"
      },
      "execution_count": null,
      "outputs": []
    },
    {
      "cell_type": "code",
      "source": [
        "model = lingam.DirectLiNGAM()\n",
        "model.fit(df)"
      ],
      "metadata": {
        "colab": {
          "base_uri": "https://localhost:8080/"
        },
        "id": "sLhG3b2NNfP8",
        "outputId": "18a6502d-c5bd-4345-9a9d-4830c4d79883"
      },
      "execution_count": null,
      "outputs": [
        {
          "output_type": "execute_result",
          "data": {
            "text/plain": [
              "<lingam.direct_lingam.DirectLiNGAM at 0x7fd32dd6a310>"
            ]
          },
          "metadata": {},
          "execution_count": 28
        }
      ]
    },
    {
      "cell_type": "code",
      "source": [
        "# see the adjacency matrix as a result of the causal discovery.\n",
        "model.adjacency_matrix_"
      ],
      "metadata": {
        "id": "qL_gRH38OV_c"
      },
      "execution_count": null,
      "outputs": []
    },
    {
      "cell_type": "code",
      "source": [
        "make_dot(model.adjacency_matrix_)\n",
        "dot = make_dot(model.adjacency_matrix_)\n",
        "\n",
        "# Save pdf\n",
        "dot.render('direct')\n",
        "\n",
        "# Save png\n",
        "dot.format = 'png'\n",
        "dot.render('direct|')\n",
        "\n",
        "dot"
      ],
      "metadata": {
        "id": "MMYL7ypvOaR0"
      },
      "execution_count": null,
      "outputs": []
    }
  ]
}